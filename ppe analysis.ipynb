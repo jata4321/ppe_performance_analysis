{
 "cells": [
  {
   "cell_type": "code",
   "execution_count": 1,
   "id": "60ef93f1",
   "metadata": {},
   "outputs": [],
   "source": [
    "import pandas as pd\n",
    "\n",
    "# importing data pull libraries\n",
    "import pandas_datareader as pdr\n",
    "import yfinance as yf\n",
    "\n",
    "# installing plotting libraries\n",
    "import matplotlib.pyplot as plt\n",
    "import plotly as plot"
   ]
  },
  {
   "cell_type": "code",
   "execution_count": 2,
   "id": "958c92ac",
   "metadata": {},
   "outputs": [],
   "source": [
    "class Fund():\n",
    "    def __init__(self) -> None:\n",
    "        pass"
   ]
  },
  {
   "cell_type": "code",
   "execution_count": 3,
   "id": "e4106b6b",
   "metadata": {},
   "outputs": [],
   "source": [
    "# import of spectrum of funds"
   ]
  },
  {
   "cell_type": "code",
   "execution_count": 4,
   "id": "cab031e0",
   "metadata": {},
   "outputs": [],
   "source": [
    "# simple stooq import"
   ]
  }
 ],
 "metadata": {
  "kernelspec": {
   "display_name": "base",
   "language": "python",
   "name": "python3"
  },
  "language_info": {
   "codemirror_mode": {
    "name": "ipython",
    "version": 3
   },
   "file_extension": ".py",
   "mimetype": "text/x-python",
   "name": "python",
   "nbconvert_exporter": "python",
   "pygments_lexer": "ipython3",
   "version": "3.9.13"
  },
  "vscode": {
   "interpreter": {
    "hash": "63fc4458f7295956e40a1d44ca0a2e753735daf8dab22d27d572f46a8438f196"
   }
  }
 },
 "nbformat": 4,
 "nbformat_minor": 5
}

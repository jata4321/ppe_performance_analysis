{
 "cells": [
  {
   "cell_type": "code",
   "execution_count": 7,
   "id": "60ef93f1",
   "metadata": {},
   "outputs": [],
   "source": [
    "import pandas as pd\n",
    "# importing data pull libraries\n",
    "import pandas_datareader as pdr\n",
    "import yfinance as yf\n",
    "# installing plotting libraries\n",
    "import matplotlib.pyplot as plt\n",
    "import plotly as plt"
   ]
  },
  {
   "cell_type": "code",
   "execution_count": 1,
   "id": "e4106b6b",
   "metadata": {},
   "outputs": [],
   "source": [
    "# import of spectrum of funds"
   ]
  },
  {
   "cell_type": "code",
   "execution_count": null,
   "id": "cab031e0",
   "metadata": {},
   "outputs": [],
   "source": [
    "# stooq simple import"
   ]
  }
 ],
 "metadata": {
  "kernelspec": {
   "display_name": "Python 3 (ipykernel)",
   "language": "python",
   "name": "python3"
  },
  "language_info": {
   "codemirror_mode": {
    "name": "ipython",
    "version": 3
   },
   "file_extension": ".py",
   "mimetype": "text/x-python",
   "name": "python",
   "nbconvert_exporter": "python",
   "pygments_lexer": "ipython3",
   "version": "3.9.13"
  }
 },
 "nbformat": 4,
 "nbformat_minor": 5
}
